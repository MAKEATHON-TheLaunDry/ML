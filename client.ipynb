{
 "cells": [
  {
   "cell_type": "code",
   "execution_count": 1,
   "metadata": {},
   "outputs": [
    {
     "name": "stdout",
     "output_type": "stream",
     "text": [
      "starting flow client\n",
      "load Data\n"
     ]
    },
    {
     "name": "stderr",
     "output_type": "stream",
     "text": [
      "INFO flwr 2023-09-16 17:55:08,649 | grpc.py:50 | Opened insecure gRPC connection (no certificates were passed)\n",
      "DEBUG flwr 2023-09-16 17:55:08,651 | connection.py:39 | ChannelConnectivity.IDLE\n",
      "DEBUG flwr 2023-09-16 17:55:08,652 | connection.py:39 | ChannelConnectivity.CONNECTING\n",
      "DEBUG flwr 2023-09-16 17:55:08,654 | connection.py:39 | ChannelConnectivity.TRANSIENT_FAILURE\n"
     ]
    },
    {
     "name": "stdout",
     "output_type": "stream",
     "text": [
      "(173444, 21365)\n",
      "data loaded\n",
      "Model created\n",
      "173444\n"
     ]
    },
    {
     "name": "stderr",
     "output_type": "stream",
     "text": [
      "DEBUG flwr 2023-09-16 17:55:08,858 | connection.py:113 | gRPC channel closed\n"
     ]
    },
    {
     "ename": "_MultiThreadedRendezvous",
     "evalue": "<_MultiThreadedRendezvous of RPC that terminated with:\n\tstatus = StatusCode.UNAVAILABLE\n\tdetails = \"failed to connect to all addresses; last error: UNKNOWN: ipv4:0.0.0.0:8080: Failed to connect to remote host: Connection refused\"\n\tdebug_error_string = \"UNKNOWN:failed to connect to all addresses; last error: UNKNOWN: ipv4:0.0.0.0:8080: Failed to connect to remote host: Connection refused {created_time:\"2023-09-16T17:55:08.653948+02:00\", grpc_status:14}\"\n>",
     "output_type": "error",
     "traceback": [
      "\u001b[0;31m---------------------------------------------------------------------------\u001b[0m",
      "\u001b[0;31m_MultiThreadedRendezvous\u001b[0m                  Traceback (most recent call last)",
      "\u001b[1;32m/Users/etienne/Documents/GitHub/ML/client.ipynb Cell 1\u001b[0m line \u001b[0;36m5\n\u001b[1;32m     <a href='vscode-notebook-cell:/Users/etienne/Documents/GitHub/ML/client.ipynb#W0sZmlsZQ%3D%3D?line=48'>49</a>\u001b[0m         \u001b[39mreturn\u001b[39;00m loss, \u001b[39mlen\u001b[39m(X_test), {\u001b[39m\"\u001b[39m\u001b[39maccuracy\u001b[39m\u001b[39m\"\u001b[39m: accuracy}\n\u001b[1;32m     <a href='vscode-notebook-cell:/Users/etienne/Documents/GitHub/ML/client.ipynb#W0sZmlsZQ%3D%3D?line=50'>51</a>\u001b[0m \u001b[39m# Start Flower client\u001b[39;00m\n\u001b[0;32m---> <a href='vscode-notebook-cell:/Users/etienne/Documents/GitHub/ML/client.ipynb#W0sZmlsZQ%3D%3D?line=51'>52</a>\u001b[0m fl\u001b[39m.\u001b[39;49mclient\u001b[39m.\u001b[39;49mstart_numpy_client(server_address\u001b[39m=\u001b[39;49m\u001b[39m\"\u001b[39;49m\u001b[39m0.0.0.0:8080\u001b[39;49m\u001b[39m\"\u001b[39;49m, client\u001b[39m=\u001b[39;49mFlowerClient())\n",
      "File \u001b[0;32m/Library/Frameworks/Python.framework/Versions/3.10/lib/python3.10/site-packages/flwr/client/app.py:252\u001b[0m, in \u001b[0;36mstart_numpy_client\u001b[0;34m(server_address, client, grpc_max_message_length, root_certificates, rest)\u001b[0m\n\u001b[1;32m    206\u001b[0m \u001b[39m\"\"\"Start a Flower NumPyClient which connects to a gRPC server.\u001b[39;00m\n\u001b[1;32m    207\u001b[0m \n\u001b[1;32m    208\u001b[0m \u001b[39mParameters\u001b[39;00m\n\u001b[0;32m   (...)\u001b[0m\n\u001b[1;32m    248\u001b[0m \u001b[39m>>> )\u001b[39;00m\n\u001b[1;32m    249\u001b[0m \u001b[39m\"\"\"\u001b[39;00m\n\u001b[1;32m    251\u001b[0m \u001b[39m# Start\u001b[39;00m\n\u001b[0;32m--> 252\u001b[0m start_client(\n\u001b[1;32m    253\u001b[0m     server_address\u001b[39m=\u001b[39;49mserver_address,\n\u001b[1;32m    254\u001b[0m     client\u001b[39m=\u001b[39;49m_wrap_numpy_client(client\u001b[39m=\u001b[39;49mclient),\n\u001b[1;32m    255\u001b[0m     grpc_max_message_length\u001b[39m=\u001b[39;49mgrpc_max_message_length,\n\u001b[1;32m    256\u001b[0m     root_certificates\u001b[39m=\u001b[39;49mroot_certificates,\n\u001b[1;32m    257\u001b[0m     rest\u001b[39m=\u001b[39;49mrest,\n\u001b[1;32m    258\u001b[0m )\n",
      "File \u001b[0;32m/Library/Frameworks/Python.framework/Versions/3.10/lib/python3.10/site-packages/flwr/client/app.py:174\u001b[0m, in \u001b[0;36mstart_client\u001b[0;34m(server_address, client, grpc_max_message_length, root_certificates, rest)\u001b[0m\n\u001b[1;32m    171\u001b[0m receive, send \u001b[39m=\u001b[39m conn\n\u001b[1;32m    173\u001b[0m \u001b[39mwhile\u001b[39;00m \u001b[39mTrue\u001b[39;00m:\n\u001b[0;32m--> 174\u001b[0m     server_message \u001b[39m=\u001b[39m receive()\n\u001b[1;32m    175\u001b[0m     \u001b[39mif\u001b[39;00m server_message \u001b[39mis\u001b[39;00m \u001b[39mNone\u001b[39;00m:\n\u001b[1;32m    176\u001b[0m         time\u001b[39m.\u001b[39msleep(\u001b[39m3\u001b[39m)  \u001b[39m# Wait for 3s before asking again\u001b[39;00m\n",
      "File \u001b[0;32m/Library/Frameworks/Python.framework/Versions/3.10/lib/python3.10/site-packages/flwr/client/grpc_client/connection.py:105\u001b[0m, in \u001b[0;36mgrpc_connection.<locals>.<lambda>\u001b[0;34m()\u001b[0m\n\u001b[1;32m    101\u001b[0m stub \u001b[39m=\u001b[39m FlowerServiceStub(channel)\n\u001b[1;32m    103\u001b[0m server_message_iterator: Iterator[ServerMessage] \u001b[39m=\u001b[39m stub\u001b[39m.\u001b[39mJoin(\u001b[39miter\u001b[39m(queue\u001b[39m.\u001b[39mget, \u001b[39mNone\u001b[39;00m))\n\u001b[0;32m--> 105\u001b[0m receive: Callable[[], ServerMessage] \u001b[39m=\u001b[39m \u001b[39mlambda\u001b[39;00m: \u001b[39mnext\u001b[39;49m(server_message_iterator)\n\u001b[1;32m    106\u001b[0m send: Callable[[ClientMessage], \u001b[39mNone\u001b[39;00m] \u001b[39m=\u001b[39m \u001b[39mlambda\u001b[39;00m msg: queue\u001b[39m.\u001b[39mput(msg, block\u001b[39m=\u001b[39m\u001b[39mFalse\u001b[39;00m)\n\u001b[1;32m    108\u001b[0m \u001b[39mtry\u001b[39;00m:\n",
      "File \u001b[0;32m/Library/Frameworks/Python.framework/Versions/3.10/lib/python3.10/site-packages/grpc/_channel.py:541\u001b[0m, in \u001b[0;36m_Rendezvous.__next__\u001b[0;34m(self)\u001b[0m\n\u001b[1;32m    540\u001b[0m \u001b[39mdef\u001b[39;00m \u001b[39m__next__\u001b[39m(\u001b[39mself\u001b[39m):\n\u001b[0;32m--> 541\u001b[0m     \u001b[39mreturn\u001b[39;00m \u001b[39mself\u001b[39;49m\u001b[39m.\u001b[39;49m_next()\n",
      "File \u001b[0;32m/Library/Frameworks/Python.framework/Versions/3.10/lib/python3.10/site-packages/grpc/_channel.py:967\u001b[0m, in \u001b[0;36m_MultiThreadedRendezvous._next\u001b[0;34m(self)\u001b[0m\n\u001b[1;32m    965\u001b[0m     \u001b[39mraise\u001b[39;00m \u001b[39mStopIteration\u001b[39;00m()\n\u001b[1;32m    966\u001b[0m \u001b[39melif\u001b[39;00m \u001b[39mself\u001b[39m\u001b[39m.\u001b[39m_state\u001b[39m.\u001b[39mcode \u001b[39mis\u001b[39;00m \u001b[39mnot\u001b[39;00m \u001b[39mNone\u001b[39;00m:\n\u001b[0;32m--> 967\u001b[0m     \u001b[39mraise\u001b[39;00m \u001b[39mself\u001b[39m\n",
      "\u001b[0;31m_MultiThreadedRendezvous\u001b[0m: <_MultiThreadedRendezvous of RPC that terminated with:\n\tstatus = StatusCode.UNAVAILABLE\n\tdetails = \"failed to connect to all addresses; last error: UNKNOWN: ipv4:0.0.0.0:8080: Failed to connect to remote host: Connection refused\"\n\tdebug_error_string = \"UNKNOWN:failed to connect to all addresses; last error: UNKNOWN: ipv4:0.0.0.0:8080: Failed to connect to remote host: Connection refused {created_time:\"2023-09-16T17:55:08.653948+02:00\", grpc_status:14}\"\n>"
     ]
    }
   ],
   "source": [
    "import warnings\n",
    "import flwr as fl\n",
    "import numpy as np\n",
    "\n",
    "from sklearn.linear_model import LogisticRegression\n",
    "from sklearn.metrics import log_loss\n",
    "\n",
    "import utils\n",
    "\n",
    "if __name__ == \"__main__\":\n",
    "    print('starting flow client')\n",
    "    print('load Data')\n",
    "    (X_train, y_train), (X_test, y_test) = utils.load_bankingdata()\n",
    "    print(X_train.shape)\n",
    "    # Split train set into 10 partitions and randomly use one for training.\n",
    "    #partition_id = np.random.choice(10)\n",
    "    #(X_train, y_train) = utils.partition(X_train, y_train, 10)[partition_id]\n",
    "    print('data loaded')\n",
    "    # Create LogisticRegression Model\n",
    "    model = LogisticRegression(\n",
    "        penalty=\"l2\",\n",
    "        max_iter=1,  # local epoch\n",
    "        warm_start=True,  # prevent refreshing weights when fitting\n",
    "    )\n",
    "    print(\"Model created\")\n",
    "    print(X_train.shape[0])\n",
    "\n",
    "    # Setting initial parameters, akin to model.compile for keras models\n",
    "    utils.set_initial_params(model, 14, 2)\n",
    "\n",
    "    # Define Flower client\n",
    "    class FlowerClient(fl.client.NumPyClient):\n",
    "        def get_parameters(self, config):  # type: ignore\n",
    "            return utils.get_model_parameters(model)\n",
    "\n",
    "        def fit(self, parameters, config):  # type: ignore\n",
    "            utils.set_model_params(model, parameters)\n",
    "            # Ignore convergence failure due to low local epochs\n",
    "            with warnings.catch_warnings():\n",
    "                warnings.simplefilter(\"ignore\")\n",
    "                model.fit(X_train, y_train)\n",
    "            print(f\"Training finished for round {config['server_round']}\")\n",
    "            return utils.get_model_parameters(model), len(X_train), {}\n",
    "\n",
    "        def evaluate(self, parameters, config):  # type: ignore\n",
    "            utils.set_model_params(model, parameters)\n",
    "            loss = log_loss(y_test, model.predict_proba(X_test))\n",
    "            accuracy = model.score(X_test, y_test)\n",
    "            return loss, len(X_test), {\"accuracy\": accuracy}\n",
    "\n",
    "    # Start Flower client\n",
    "    fl.client.start_numpy_client(server_address=\"0.0.0.0:8080\", client=FlowerClient())\n"
   ]
  }
 ],
 "metadata": {
  "kernelspec": {
   "display_name": "Python 3",
   "language": "python",
   "name": "python3"
  },
  "language_info": {
   "codemirror_mode": {
    "name": "ipython",
    "version": 3
   },
   "file_extension": ".py",
   "mimetype": "text/x-python",
   "name": "python",
   "nbconvert_exporter": "python",
   "pygments_lexer": "ipython3",
   "version": "3.10.0"
  },
  "orig_nbformat": 4
 },
 "nbformat": 4,
 "nbformat_minor": 2
}
