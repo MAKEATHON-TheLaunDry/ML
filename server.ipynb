{
 "cells": [
  {
   "cell_type": "code",
   "execution_count": null,
   "metadata": {},
   "outputs": [],
   "source": [
    "import flwr as fl\n",
    "import utils\n",
    "from flwr.common import NDArrays, Scalar\n",
    "from sklearn.metrics import log_loss\n",
    "from sklearn.linear_model import LogisticRegression\n",
    "from typing import Dict, Optional\n",
    "\n",
    "def fit_round(server_round: int) -> Dict:\n",
    "    \"\"\"Send round number to client.\"\"\"\n",
    "    return {\"server_round\": server_round}\n",
    "  \n",
    "  \n",
    "def get_evaluate_fn(model: LogisticRegression):\n",
    "    \"\"\"Return an evaluation function for server-side evaluation.\"\"\"\n",
    "\n",
    "    _, (X_test, y_test) = utils.load_bankingdata()\n",
    "\n",
    "    def evaluate(\n",
    "        server_round: int, parameters: NDArrays, config: Dict[str, Scalar]\n",
    "    ) -> Optional[Tuple[float, Dict[str, Scalar]]]:\n",
    "        utils.set_model_params(model, parameters)\n",
    "        loss = log_loss(y_test, model.predict_proba(X_test))\n",
    "        accuracy = model.score(X_test, y_test)\n",
    "        return loss, {\"accuracy\": accuracy}\n",
    "\n",
    "    return evaluate\n",
    "  \n",
    "  \n",
    "  \n",
    "# Start Flower server for five rounds of federated learning\n",
    "if __name__ == \"__main__\":\n",
    "    model = LogisticRegression()\n",
    "    utils.set_initial_params(model)\n",
    "    strategy = fl.server.strategy.FedAvg(\n",
    "        min_available_clients=2,\n",
    "        evaluate_fn=get_evaluate_fn(model),\n",
    "        on_fit_config_fn=fit_round,\n",
    "    )\n",
    "    fl.server.start_server(server_address=\"0.0.0.0:8080\", strategy=strategy, config=fl.server.ServerConfig(num_rounds=3))"
   ]
  }
 ],
 "metadata": {
  "kernelspec": {
   "display_name": "Python 3",
   "language": "python",
   "name": "python3"
  },
  "language_info": {
   "name": "python",
   "version": "3.10.0"
  },
  "orig_nbformat": 4
 },
 "nbformat": 4,
 "nbformat_minor": 2
}
